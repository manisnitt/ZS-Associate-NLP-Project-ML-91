{
 "cells": [
  {
   "cell_type": "code",
   "execution_count": 1,
   "metadata": {},
   "outputs": [],
   "source": [
    "import numpy as np\n",
    "import pandas as pd\n",
    "import matplotlib.pyplot as plt\n",
    "%matplotlib inline"
   ]
  },
  {
   "cell_type": "code",
   "execution_count": 2,
   "metadata": {},
   "outputs": [],
   "source": [
    "train_df=pd.read_csv('train.csv',encoding='latin1')\n",
    "test_df=pd.read_csv('test.csv')"
   ]
  },
  {
   "cell_type": "code",
   "execution_count": 3,
   "metadata": {},
   "outputs": [
    {
     "data": {
      "text/html": [
       "<div>\n",
       "<style scoped>\n",
       "    .dataframe tbody tr th:only-of-type {\n",
       "        vertical-align: middle;\n",
       "    }\n",
       "\n",
       "    .dataframe tbody tr th {\n",
       "        vertical-align: top;\n",
       "    }\n",
       "\n",
       "    .dataframe thead th {\n",
       "        text-align: right;\n",
       "    }\n",
       "</style>\n",
       "<table border=\"1\" class=\"dataframe\">\n",
       "  <thead>\n",
       "    <tr style=\"text-align: right;\">\n",
       "      <th></th>\n",
       "      <th>Source</th>\n",
       "      <th>Host</th>\n",
       "      <th>Link</th>\n",
       "      <th>Date(ET)</th>\n",
       "      <th>Time(ET)</th>\n",
       "      <th>time(GMT)</th>\n",
       "      <th>Title</th>\n",
       "      <th>TRANS_CONV_TEXT</th>\n",
       "      <th>Patient_Tag</th>\n",
       "    </tr>\n",
       "  </thead>\n",
       "  <tbody>\n",
       "    <tr>\n",
       "      <th>0</th>\n",
       "      <td>FORUMS</td>\n",
       "      <td>cafepharma.com</td>\n",
       "      <td>http://cafepharma.com/boards/threads/epstein.5...</td>\n",
       "      <td>6/15/2016</td>\n",
       "      <td>13:58:00</td>\n",
       "      <td>6/15/2016 23:28</td>\n",
       "      <td>Epstein</td>\n",
       "      <td>I don't disagree with you in principle. I'm ju...</td>\n",
       "      <td>0</td>\n",
       "    </tr>\n",
       "    <tr>\n",
       "      <th>1</th>\n",
       "      <td>FORUMS</td>\n",
       "      <td>www.patient.co.uk</td>\n",
       "      <td>http://www.patient.co.uk/forums/discuss/enlarg...</td>\n",
       "      <td>5/7/2016</td>\n",
       "      <td>0.820833333</td>\n",
       "      <td>42498.21667</td>\n",
       "      <td>Enlarged Heart.Thread Enlarged Heart</td>\n",
       "      <td>I am always dizzy I get dizzy standing up so I...</td>\n",
       "      <td>1</td>\n",
       "    </tr>\n",
       "    <tr>\n",
       "      <th>2</th>\n",
       "      <td>BLOG</td>\n",
       "      <td>http://abcnewsradioonline.com/entertainment-news</td>\n",
       "      <td>http://abcnewsradioonline.com/entertainment-ne...</td>\n",
       "      <td>4/14/2016</td>\n",
       "      <td>15:00:38</td>\n",
       "      <td>4/15/2016 0:30</td>\n",
       "      <td>Queen Latifah Joins American Heart Association...</td>\n",
       "      <td>Axelle/Bauer-Griffin/FilmMagic(NEW YORK) -- Qu...</td>\n",
       "      <td>0</td>\n",
       "    </tr>\n",
       "    <tr>\n",
       "      <th>3</th>\n",
       "      <td>FORUMS</td>\n",
       "      <td>www.cancer-forums.net</td>\n",
       "      <td>http://www.cancer-forums.net/viewtopic.php?f=1...</td>\n",
       "      <td>6/18/2016</td>\n",
       "      <td>20:46:00</td>\n",
       "      <td>6/19/2016 6:16</td>\n",
       "      <td>Bulaemia</td>\n",
       "      <td>I am 17 and I have been throwing up for about ...</td>\n",
       "      <td>1</td>\n",
       "    </tr>\n",
       "    <tr>\n",
       "      <th>4</th>\n",
       "      <td>FORUMS</td>\n",
       "      <td>www.diyaudio.com</td>\n",
       "      <td>http://www.diyaudio.com/forums/lounge/292252-d...</td>\n",
       "      <td>6/15/2016</td>\n",
       "      <td>3:26:00</td>\n",
       "      <td>6/15/2016 12:56</td>\n",
       "      <td>DIY Silver interconnects and RCAs???</td>\n",
       "      <td>Quote: Originally Posted by Boyan Silyavski Wa...</td>\n",
       "      <td>0</td>\n",
       "    </tr>\n",
       "  </tbody>\n",
       "</table>\n",
       "</div>"
      ],
      "text/plain": [
       "   Source                                              Host  \\\n",
       "0  FORUMS                                    cafepharma.com   \n",
       "1  FORUMS                                 www.patient.co.uk   \n",
       "2    BLOG  http://abcnewsradioonline.com/entertainment-news   \n",
       "3  FORUMS                             www.cancer-forums.net   \n",
       "4  FORUMS                                  www.diyaudio.com   \n",
       "\n",
       "                                                Link   Date(ET)     Time(ET)  \\\n",
       "0  http://cafepharma.com/boards/threads/epstein.5...  6/15/2016     13:58:00   \n",
       "1  http://www.patient.co.uk/forums/discuss/enlarg...   5/7/2016  0.820833333   \n",
       "2  http://abcnewsradioonline.com/entertainment-ne...  4/14/2016     15:00:38   \n",
       "3  http://www.cancer-forums.net/viewtopic.php?f=1...  6/18/2016     20:46:00   \n",
       "4  http://www.diyaudio.com/forums/lounge/292252-d...  6/15/2016      3:26:00   \n",
       "\n",
       "         time(GMT)                                              Title  \\\n",
       "0  6/15/2016 23:28                                            Epstein   \n",
       "1      42498.21667               Enlarged Heart.Thread Enlarged Heart   \n",
       "2   4/15/2016 0:30  Queen Latifah Joins American Heart Association...   \n",
       "3   6/19/2016 6:16                                           Bulaemia   \n",
       "4  6/15/2016 12:56               DIY Silver interconnects and RCAs???   \n",
       "\n",
       "                                     TRANS_CONV_TEXT  Patient_Tag  \n",
       "0  I don't disagree with you in principle. I'm ju...            0  \n",
       "1  I am always dizzy I get dizzy standing up so I...            1  \n",
       "2  Axelle/Bauer-Griffin/FilmMagic(NEW YORK) -- Qu...            0  \n",
       "3  I am 17 and I have been throwing up for about ...            1  \n",
       "4  Quote: Originally Posted by Boyan Silyavski Wa...            0  "
      ]
     },
     "execution_count": 3,
     "metadata": {},
     "output_type": "execute_result"
    }
   ],
   "source": [
    "train_df.head()"
   ]
  },
  {
   "cell_type": "code",
   "execution_count": 4,
   "metadata": {},
   "outputs": [
    {
     "data": {
      "text/html": [
       "<div>\n",
       "<style scoped>\n",
       "    .dataframe tbody tr th:only-of-type {\n",
       "        vertical-align: middle;\n",
       "    }\n",
       "\n",
       "    .dataframe tbody tr th {\n",
       "        vertical-align: top;\n",
       "    }\n",
       "\n",
       "    .dataframe thead th {\n",
       "        text-align: right;\n",
       "    }\n",
       "</style>\n",
       "<table border=\"1\" class=\"dataframe\">\n",
       "  <thead>\n",
       "    <tr style=\"text-align: right;\">\n",
       "      <th></th>\n",
       "      <th>Index</th>\n",
       "      <th>Source</th>\n",
       "      <th>Host</th>\n",
       "      <th>Link</th>\n",
       "      <th>Date(ET)</th>\n",
       "      <th>Time(ET)</th>\n",
       "      <th>time(GMT)</th>\n",
       "      <th>Title</th>\n",
       "      <th>TRANS_CONV_TEXT</th>\n",
       "      <th>Unnamed: 9</th>\n",
       "    </tr>\n",
       "  </thead>\n",
       "  <tbody>\n",
       "    <tr>\n",
       "      <th>0</th>\n",
       "      <td>1</td>\n",
       "      <td>BLOG</td>\n",
       "      <td>uhmagonline.com</td>\n",
       "      <td>http://uhmagonline.com/son-of-the-late-kimbo-s...</td>\n",
       "      <td>7/30/2016</td>\n",
       "      <td>0:41:23</td>\n",
       "      <td>NaN</td>\n",
       "      <td>NaN</td>\n",
       "      <td>Baby Slice, the son of the late Kimbo Slice, h...</td>\n",
       "      <td>NaN</td>\n",
       "    </tr>\n",
       "    <tr>\n",
       "      <th>1</th>\n",
       "      <td>2</td>\n",
       "      <td>FORUMS</td>\n",
       "      <td>implantinformationnetwork.yuku.com</td>\n",
       "      <td>http://implantinformationnetwork.yuku.com/topi...</td>\n",
       "      <td>6/20/2016</td>\n",
       "      <td>0:07:30</td>\n",
       "      <td>6/20/2016 9:37</td>\n",
       "      <td>My Story --</td>\n",
       "      <td>&lt;p&gt;&lt;font face=\"sans-serif\" size=\"3\"&gt;I have had...</td>\n",
       "      <td>NaN</td>\n",
       "    </tr>\n",
       "    <tr>\n",
       "      <th>2</th>\n",
       "      <td>3</td>\n",
       "      <td>BLOG</td>\n",
       "      <td>http://cestlapharm.blogspot.com</td>\n",
       "      <td>http://cestlapharm.blogspot.com/2016/06/us-fda...</td>\n",
       "      <td>6/15/2016</td>\n",
       "      <td>15:44:00</td>\n",
       "      <td>6/16/2016 1:14</td>\n",
       "      <td>US FDA ?????canagliflozin?dapagliflozin?????????</td>\n",
       "      <td>Previously, sodium-glucose cotransporter-2 (SG...</td>\n",
       "      <td>NaN</td>\n",
       "    </tr>\n",
       "    <tr>\n",
       "      <th>3</th>\n",
       "      <td>4</td>\n",
       "      <td>FORUMS</td>\n",
       "      <td>healthboards.com</td>\n",
       "      <td>http://www.healthboards.com/boards/heart-disor...</td>\n",
       "      <td>7/17/2016</td>\n",
       "      <td>19:41:00</td>\n",
       "      <td>NaN</td>\n",
       "      <td>NaN</td>\n",
       "      <td>Hello. I suffer from congestive heart failure ...</td>\n",
       "      <td>NaN</td>\n",
       "    </tr>\n",
       "    <tr>\n",
       "      <th>4</th>\n",
       "      <td>5</td>\n",
       "      <td>BLOG</td>\n",
       "      <td>http://www.sciencecodex.com</td>\n",
       "      <td>http://www.sciencecodex.com/vitamin_d_improves...</td>\n",
       "      <td>4/4/2016</td>\n",
       "      <td>15:30:45</td>\n",
       "      <td>4/5/2016 1:00</td>\n",
       "      <td>Vitamin D improves heart function, study finds</td>\n",
       "      <td>A daily dose of vitamin D3 improves heart func...</td>\n",
       "      <td>NaN</td>\n",
       "    </tr>\n",
       "  </tbody>\n",
       "</table>\n",
       "</div>"
      ],
      "text/plain": [
       "   Index  Source                                Host  \\\n",
       "0      1    BLOG                     uhmagonline.com   \n",
       "1      2  FORUMS  implantinformationnetwork.yuku.com   \n",
       "2      3    BLOG     http://cestlapharm.blogspot.com   \n",
       "3      4  FORUMS                    healthboards.com   \n",
       "4      5    BLOG         http://www.sciencecodex.com   \n",
       "\n",
       "                                                Link   Date(ET)  Time(ET)  \\\n",
       "0  http://uhmagonline.com/son-of-the-late-kimbo-s...  7/30/2016   0:41:23   \n",
       "1  http://implantinformationnetwork.yuku.com/topi...  6/20/2016   0:07:30   \n",
       "2  http://cestlapharm.blogspot.com/2016/06/us-fda...  6/15/2016  15:44:00   \n",
       "3  http://www.healthboards.com/boards/heart-disor...  7/17/2016  19:41:00   \n",
       "4  http://www.sciencecodex.com/vitamin_d_improves...   4/4/2016  15:30:45   \n",
       "\n",
       "        time(GMT)                                             Title  \\\n",
       "0             NaN                                               NaN   \n",
       "1  6/20/2016 9:37                                       My Story --   \n",
       "2  6/16/2016 1:14  US FDA ?????canagliflozin?dapagliflozin?????????   \n",
       "3             NaN                                               NaN   \n",
       "4   4/5/2016 1:00    Vitamin D improves heart function, study finds   \n",
       "\n",
       "                                     TRANS_CONV_TEXT Unnamed: 9  \n",
       "0  Baby Slice, the son of the late Kimbo Slice, h...        NaN  \n",
       "1  <p><font face=\"sans-serif\" size=\"3\">I have had...        NaN  \n",
       "2  Previously, sodium-glucose cotransporter-2 (SG...        NaN  \n",
       "3  Hello. I suffer from congestive heart failure ...        NaN  \n",
       "4  A daily dose of vitamin D3 improves heart func...        NaN  "
      ]
     },
     "execution_count": 4,
     "metadata": {},
     "output_type": "execute_result"
    }
   ],
   "source": [
    "test_df.head()"
   ]
  },
  {
   "cell_type": "code",
   "execution_count": 82,
   "metadata": {},
   "outputs": [],
   "source": [
    "test_df['text']=test_df['TRANS_CONV_TEXT']"
   ]
  },
  {
   "cell_type": "code",
   "execution_count": 83,
   "metadata": {},
   "outputs": [
    {
     "data": {
      "text/plain": [
       "0     Baby Slice, the son of the late Kimbo Slice, h...\n",
       "1     <p><font face=\"sans-serif\" size=\"3\">I have had...\n",
       "2     Previously, sodium-glucose cotransporter-2 (SG...\n",
       "3     Hello. I suffer from congestive heart failure ...\n",
       "4     A daily dose of vitamin D3 improves heart func...\n",
       "5     \"reuters.com A stem cell therapy developed by ...\n",
       "6     Sorry, I ran out of credit http://www.buffaloi...\n",
       "7     The sun will come out tomorrow....But for peop...\n",
       "8                      Pathophysiology of Heart failure\n",
       "9     ( http://blog.zandcell.com/vericel-stem-cell-t...\n",
       "10    There's no autopsy back yet. It's extremely ir...\n",
       "11    By Michelle Andrews Kaiser Health News Althoug...\n",
       "12    I am the same - i cant cope anymore sat every ...\n",
       "13    Natalie Cole Remembered at Grammys ? But Witho...\n",
       "14    \"  Every American should have the right to hea...\n",
       "15    I was told by one hospital that I had an enlar...\n",
       "16    >>6031646 Spironolactone increases the amount ...\n",
       "17    Hispanics are more likely to have problems pum...\n",
       "18    Julie Ann (Williams) Balcom (50) passed away o...\n",
       "19    Health Articles Long Distance Running Effects ...\n",
       "Name: text, dtype: object"
      ]
     },
     "execution_count": 83,
     "metadata": {},
     "output_type": "execute_result"
    }
   ],
   "source": [
    "test_df['text'].head(20)"
   ]
  },
  {
   "cell_type": "code",
   "execution_count": 104,
   "metadata": {},
   "outputs": [],
   "source": [
    "train_df['text']=train_df['TRANS_CONV_TEXT']"
   ]
  },
  {
   "cell_type": "code",
   "execution_count": 8,
   "metadata": {},
   "outputs": [
    {
     "data": {
      "text/html": [
       "<div>\n",
       "<style scoped>\n",
       "    .dataframe tbody tr th:only-of-type {\n",
       "        vertical-align: middle;\n",
       "    }\n",
       "\n",
       "    .dataframe tbody tr th {\n",
       "        vertical-align: top;\n",
       "    }\n",
       "\n",
       "    .dataframe thead th {\n",
       "        text-align: right;\n",
       "    }\n",
       "</style>\n",
       "<table border=\"1\" class=\"dataframe\">\n",
       "  <thead>\n",
       "    <tr style=\"text-align: right;\">\n",
       "      <th></th>\n",
       "      <th>Source</th>\n",
       "      <th>Host</th>\n",
       "      <th>Link</th>\n",
       "      <th>Date(ET)</th>\n",
       "      <th>Time(ET)</th>\n",
       "      <th>time(GMT)</th>\n",
       "      <th>Title</th>\n",
       "      <th>TRANS_CONV_TEXT</th>\n",
       "      <th>Patient_Tag</th>\n",
       "      <th>text</th>\n",
       "    </tr>\n",
       "  </thead>\n",
       "  <tbody>\n",
       "    <tr>\n",
       "      <th>0</th>\n",
       "      <td>FORUMS</td>\n",
       "      <td>cafepharma.com</td>\n",
       "      <td>http://cafepharma.com/boards/threads/epstein.5...</td>\n",
       "      <td>6/15/2016</td>\n",
       "      <td>13:58:00</td>\n",
       "      <td>6/15/2016 23:28</td>\n",
       "      <td>Epstein</td>\n",
       "      <td>I don't disagree with you in principle. I'm ju...</td>\n",
       "      <td>0</td>\n",
       "      <td>EpsteinI don't disagree with you in principle....</td>\n",
       "    </tr>\n",
       "    <tr>\n",
       "      <th>1</th>\n",
       "      <td>FORUMS</td>\n",
       "      <td>www.patient.co.uk</td>\n",
       "      <td>http://www.patient.co.uk/forums/discuss/enlarg...</td>\n",
       "      <td>5/7/2016</td>\n",
       "      <td>0.820833333</td>\n",
       "      <td>42498.21667</td>\n",
       "      <td>Enlarged Heart.Thread Enlarged Heart</td>\n",
       "      <td>I am always dizzy I get dizzy standing up so I...</td>\n",
       "      <td>1</td>\n",
       "      <td>Enlarged Heart.Thread Enlarged HeartI am alway...</td>\n",
       "    </tr>\n",
       "    <tr>\n",
       "      <th>2</th>\n",
       "      <td>BLOG</td>\n",
       "      <td>http://abcnewsradioonline.com/entertainment-news</td>\n",
       "      <td>http://abcnewsradioonline.com/entertainment-ne...</td>\n",
       "      <td>4/14/2016</td>\n",
       "      <td>15:00:38</td>\n",
       "      <td>4/15/2016 0:30</td>\n",
       "      <td>Queen Latifah Joins American Heart Association...</td>\n",
       "      <td>Axelle/Bauer-Griffin/FilmMagic(NEW YORK) -- Qu...</td>\n",
       "      <td>0</td>\n",
       "      <td>Queen Latifah Joins American Heart Association...</td>\n",
       "    </tr>\n",
       "    <tr>\n",
       "      <th>3</th>\n",
       "      <td>FORUMS</td>\n",
       "      <td>www.cancer-forums.net</td>\n",
       "      <td>http://www.cancer-forums.net/viewtopic.php?f=1...</td>\n",
       "      <td>6/18/2016</td>\n",
       "      <td>20:46:00</td>\n",
       "      <td>6/19/2016 6:16</td>\n",
       "      <td>Bulaemia</td>\n",
       "      <td>I am 17 and I have been throwing up for about ...</td>\n",
       "      <td>1</td>\n",
       "      <td>BulaemiaI am 17 and I have been throwing up fo...</td>\n",
       "    </tr>\n",
       "    <tr>\n",
       "      <th>4</th>\n",
       "      <td>FORUMS</td>\n",
       "      <td>www.diyaudio.com</td>\n",
       "      <td>http://www.diyaudio.com/forums/lounge/292252-d...</td>\n",
       "      <td>6/15/2016</td>\n",
       "      <td>3:26:00</td>\n",
       "      <td>6/15/2016 12:56</td>\n",
       "      <td>DIY Silver interconnects and RCAs???</td>\n",
       "      <td>Quote: Originally Posted by Boyan Silyavski Wa...</td>\n",
       "      <td>0</td>\n",
       "      <td>DIY Silver interconnects and RCAs???Quote: Ori...</td>\n",
       "    </tr>\n",
       "    <tr>\n",
       "      <th>5</th>\n",
       "      <td>FORUMS</td>\n",
       "      <td>forum.cyclinguk.org</td>\n",
       "      <td>http://forum.cyclinguk.org/viewtopic.php?f=24&amp;...</td>\n",
       "      <td>4/6/2016</td>\n",
       "      <td>5:50:00</td>\n",
       "      <td>4/6/2016 15:20</td>\n",
       "      <td>Personal Question</td>\n",
       "      <td>Theres a discussion about recumbent power on B...</td>\n",
       "      <td>0</td>\n",
       "      <td>Personal QuestionTheres a discussion about rec...</td>\n",
       "    </tr>\n",
       "    <tr>\n",
       "      <th>6</th>\n",
       "      <td>FORUMS</td>\n",
       "      <td>www.reddit.com</td>\n",
       "      <td>https://www.reddit.com/r/todayilearned/comment...</td>\n",
       "      <td>5/2/2016</td>\n",
       "      <td>0.047916667</td>\n",
       "      <td>42492.44375</td>\n",
       "      <td>TIL that CVS took a $2 billion hit to annual s...</td>\n",
       "      <td>Of course! I just got diagnosed with congestiv...</td>\n",
       "      <td>1</td>\n",
       "      <td>TIL that CVS took a $2 billion hit to annual s...</td>\n",
       "    </tr>\n",
       "    <tr>\n",
       "      <th>7</th>\n",
       "      <td>BLOG</td>\n",
       "      <td>http://quranfruitz.blogspot.com</td>\n",
       "      <td>http://quranfruitz.blogspot.com/2016/02/causes...</td>\n",
       "      <td>2/28/2016</td>\n",
       "      <td>3:20:00</td>\n",
       "      <td>2/28/2016 13:50</td>\n",
       "      <td>Causes of Low Blood Pressure(Hypo tension)</td>\n",
       "      <td>Blood pressure is a measurement of the pressur...</td>\n",
       "      <td>0</td>\n",
       "      <td>Causes of Low Blood Pressure(Hypo tension)Bloo...</td>\n",
       "    </tr>\n",
       "    <tr>\n",
       "      <th>8</th>\n",
       "      <td>FORUMS</td>\n",
       "      <td>hmnews.org</td>\n",
       "      <td>http://hmnews.org/health-care-news/cluster8641...</td>\n",
       "      <td>6/15/2016</td>\n",
       "      <td>17:16:00</td>\n",
       "      <td>6/16/2016 2:46</td>\n",
       "      <td>Sleep disorders may predict heart events after...</td>\n",
       "      <td>Other Sleep disorders may predict heart events...</td>\n",
       "      <td>0</td>\n",
       "      <td>Sleep disorders may predict heart events after...</td>\n",
       "    </tr>\n",
       "    <tr>\n",
       "      <th>9</th>\n",
       "      <td>FORUMS</td>\n",
       "      <td>www.cafepharma.com</td>\n",
       "      <td>http://www.cafepharma.com/boards/threads/nomin...</td>\n",
       "      <td>4/29/2016</td>\n",
       "      <td>23:46:00</td>\n",
       "      <td>4/30/2016 9:16</td>\n",
       "      <td>Nominations for worst manager at Novartis</td>\n",
       "      <td>worse manager ever??? LS out of Richmond. Ugh!...</td>\n",
       "      <td>0</td>\n",
       "      <td>Nominations for worst manager at Novartisworse...</td>\n",
       "    </tr>\n",
       "  </tbody>\n",
       "</table>\n",
       "</div>"
      ],
      "text/plain": [
       "   Source                                              Host  \\\n",
       "0  FORUMS                                    cafepharma.com   \n",
       "1  FORUMS                                 www.patient.co.uk   \n",
       "2    BLOG  http://abcnewsradioonline.com/entertainment-news   \n",
       "3  FORUMS                             www.cancer-forums.net   \n",
       "4  FORUMS                                  www.diyaudio.com   \n",
       "5  FORUMS                               forum.cyclinguk.org   \n",
       "6  FORUMS                                    www.reddit.com   \n",
       "7    BLOG                   http://quranfruitz.blogspot.com   \n",
       "8  FORUMS                                        hmnews.org   \n",
       "9  FORUMS                                www.cafepharma.com   \n",
       "\n",
       "                                                Link   Date(ET)     Time(ET)  \\\n",
       "0  http://cafepharma.com/boards/threads/epstein.5...  6/15/2016     13:58:00   \n",
       "1  http://www.patient.co.uk/forums/discuss/enlarg...   5/7/2016  0.820833333   \n",
       "2  http://abcnewsradioonline.com/entertainment-ne...  4/14/2016     15:00:38   \n",
       "3  http://www.cancer-forums.net/viewtopic.php?f=1...  6/18/2016     20:46:00   \n",
       "4  http://www.diyaudio.com/forums/lounge/292252-d...  6/15/2016      3:26:00   \n",
       "5  http://forum.cyclinguk.org/viewtopic.php?f=24&...   4/6/2016      5:50:00   \n",
       "6  https://www.reddit.com/r/todayilearned/comment...   5/2/2016  0.047916667   \n",
       "7  http://quranfruitz.blogspot.com/2016/02/causes...  2/28/2016      3:20:00   \n",
       "8  http://hmnews.org/health-care-news/cluster8641...  6/15/2016     17:16:00   \n",
       "9  http://www.cafepharma.com/boards/threads/nomin...  4/29/2016     23:46:00   \n",
       "\n",
       "         time(GMT)                                              Title  \\\n",
       "0  6/15/2016 23:28                                            Epstein   \n",
       "1      42498.21667               Enlarged Heart.Thread Enlarged Heart   \n",
       "2   4/15/2016 0:30  Queen Latifah Joins American Heart Association...   \n",
       "3   6/19/2016 6:16                                           Bulaemia   \n",
       "4  6/15/2016 12:56               DIY Silver interconnects and RCAs???   \n",
       "5   4/6/2016 15:20                                  Personal Question   \n",
       "6      42492.44375  TIL that CVS took a $2 billion hit to annual s...   \n",
       "7  2/28/2016 13:50         Causes of Low Blood Pressure(Hypo tension)   \n",
       "8   6/16/2016 2:46  Sleep disorders may predict heart events after...   \n",
       "9   4/30/2016 9:16          Nominations for worst manager at Novartis   \n",
       "\n",
       "                                     TRANS_CONV_TEXT  Patient_Tag  \\\n",
       "0  I don't disagree with you in principle. I'm ju...            0   \n",
       "1  I am always dizzy I get dizzy standing up so I...            1   \n",
       "2  Axelle/Bauer-Griffin/FilmMagic(NEW YORK) -- Qu...            0   \n",
       "3  I am 17 and I have been throwing up for about ...            1   \n",
       "4  Quote: Originally Posted by Boyan Silyavski Wa...            0   \n",
       "5  Theres a discussion about recumbent power on B...            0   \n",
       "6  Of course! I just got diagnosed with congestiv...            1   \n",
       "7  Blood pressure is a measurement of the pressur...            0   \n",
       "8  Other Sleep disorders may predict heart events...            0   \n",
       "9  worse manager ever??? LS out of Richmond. Ugh!...            0   \n",
       "\n",
       "                                                text  \n",
       "0  EpsteinI don't disagree with you in principle....  \n",
       "1  Enlarged Heart.Thread Enlarged HeartI am alway...  \n",
       "2  Queen Latifah Joins American Heart Association...  \n",
       "3  BulaemiaI am 17 and I have been throwing up fo...  \n",
       "4  DIY Silver interconnects and RCAs???Quote: Ori...  \n",
       "5  Personal QuestionTheres a discussion about rec...  \n",
       "6  TIL that CVS took a $2 billion hit to annual s...  \n",
       "7  Causes of Low Blood Pressure(Hypo tension)Bloo...  \n",
       "8  Sleep disorders may predict heart events after...  \n",
       "9  Nominations for worst manager at Novartisworse...  "
      ]
     },
     "execution_count": 8,
     "metadata": {},
     "output_type": "execute_result"
    }
   ],
   "source": [
    "train_df.head(10)"
   ]
  },
  {
   "cell_type": "code",
   "execution_count": 9,
   "metadata": {},
   "outputs": [
    {
     "data": {
      "text/plain": [
       "'Queen Latifah Joins American Heart Association\\'s \"Red Steps\" CampaignAxelle/Bauer-Griffin/FilmMagic(NEW YORK) -- Queen Latifah is taking matters to heart, literally. The Emmy and Grammy winner has joined forces with the American Heart Association for its Red Steps campaign. The idea is for people to post photos of themselves taking steps while wearing red socks, to become more physically active and raise awareness of the risks and symptoms of heart failure. The goal is six million ?red steps,? in recognition of the nearly six million Americans living with heart failure For Latifah, born Dana Owens, the effort is personal. Her mother, Rita Owens, suffers from scleroderma, an incurable autoimmune disease that has caused scar tissue build up in her lungs. The 66-year-old former schoolteacher also has pulmonary hypertension, which impacts her ability to breathe. ?It\\'s just a way for us to show support for all of those people who are dealing with the condition and those who care for them,? Latifah told ABC Radio. Latifah said her mother?s approval of the campaign was imperative to her getting involved. ?I really wanted her to be involved and I wanted her permission,? Latifah confided. ?She\\'s just so eloquent and positive in the way she puts things, it\\'s something that we as a family like to share with other people because realize that by her talking about some of her medical issues, a lot of people are reaching out and saying \\'Me too.\\'? The rapper turned actress says the campaign has also helped her get healthy. ?I am not perfect when it comes to just staying fit constantly all the time,? she shared, saying the campaign reminds her to be diligent and that she doesn?t have to do it alone. But most of all it?s about helping other. ?Sometimes I can rally that support and I can do right in my own group of family and friends,? she says. Copyright ? 2016, ABC Radio. All rights reserved.'"
      ]
     },
     "execution_count": 9,
     "metadata": {},
     "output_type": "execute_result"
    }
   ],
   "source": [
    "train_df['text'][2]"
   ]
  },
  {
   "cell_type": "code",
   "execution_count": 10,
   "metadata": {},
   "outputs": [],
   "source": [
    "import string\n",
    "import re"
   ]
  },
  {
   "cell_type": "code",
   "execution_count": 11,
   "metadata": {},
   "outputs": [
    {
     "data": {
      "text/plain": [
       "0     EpsteinI don't disagree with you in principle ...\n",
       "1     Enlarged HeartThread Enlarged HeartI am always...\n",
       "2     Queen Latifah Joins American Heart Association...\n",
       "3     BulaemiaI am  and I have been throwing up for ...\n",
       "4     DIY Silver interconnects and RCAsQuote: Origin...\n",
       "5     Personal QuestionTheres a discussion about rec...\n",
       "6     TIL that CVS took a $ billion hit to annual sa...\n",
       "7     Causes of Low Blood Pressure(Hypo tension)Bloo...\n",
       "8     Sleep disorders may predict heart events after...\n",
       "9     Nominations for worst manager at Novartisworse...\n",
       "10                                                  NaN\n",
       "11    Comment on This Low Blood Pressure Diet is Ter...\n",
       "12    Blood Pressure Monitoring and Testing Market t...\n",
       "13    How Much Tax Can a Tax Man Tax if a Tax Man Ca...\n",
       "14    () Now is when doves cry :(Russ : So another a...\n",
       "15    Do-It-Yourself Blood Pressure Checks May Help ...\n",
       "16    How big is the ALS market  Anybody !that's not...\n",
       "17    Former First Lady Nancy Reagan Dies At  In Cal...\n",
       "18                                                  NaN\n",
       "19    Pot belly ups heart failure riskLondon: Obesit...\n",
       "Name: text, dtype: object"
      ]
     },
     "execution_count": 11,
     "metadata": {},
     "output_type": "execute_result"
    }
   ],
   "source": [
    "train_df['text']=train_df['text'].str.replace('\\d+','').str.replace('?','').str.replace('.','')\n",
    "train_df['text'].head(20)"
   ]
  },
  {
   "cell_type": "code",
   "execution_count": 84,
   "metadata": {},
   "outputs": [
    {
     "data": {
      "text/plain": [
       "0     Baby Slice, the son of the late Kimbo Slice, h...\n",
       "1     <p><font face=\"sans-serif\" size=\"\">I have had ...\n",
       "2     Previously, sodium-glucose cotransporter- (SGL...\n",
       "3     Hello I suffer from congestive heart failure d...\n",
       "4     A daily dose of vitamin D improves heart funct...\n",
       "5     \"reuterscom A stem cell therapy developed by V...\n",
       "6     Sorry, I ran out of credit http://wwwbuffaloim...\n",
       "7     The sun will come out tomorrowBut for people w...\n",
       "8                      Pathophysiology of Heart failure\n",
       "9     ( http://blogzandcellcom/vericel-stem-cell-the...\n",
       "10    There's no autopsy back yet It's extremely irr...\n",
       "11    By Michelle Andrews Kaiser Health News Althoug...\n",
       "12    I am the same - i cant cope anymore sat every ...\n",
       "13    Natalie Cole Remembered at Grammys  But Withou...\n",
       "14    \"  Every American should have the right to hea...\n",
       "15    I was told by one hospital that I had an enlar...\n",
       "16    >> Spironolactone increases the amount of pota...\n",
       "17    Hispanics are more likely to have problems pum...\n",
       "18    Julie Ann (Williams) Balcom () passed away on ...\n",
       "19    Health Articles Long Distance Running Effects ...\n",
       "Name: text, dtype: object"
      ]
     },
     "execution_count": 84,
     "metadata": {},
     "output_type": "execute_result"
    }
   ],
   "source": [
    "test_df['text']=test_df['text'].str.replace('\\d+','').str.replace('?','').str.replace('.','')\n",
    "test_df['text'].head(20)"
   ]
  },
  {
   "cell_type": "code",
   "execution_count": 13,
   "metadata": {},
   "outputs": [
    {
     "data": {
      "text/plain": [
       "'Queen Latifah Joins American Heart Association\\'s \"Red Steps\" CampaignAxelle/Bauer-Griffin/FilmMagic(NEW YORK) -- Queen Latifah is taking matters to heart, literally The Emmy and Grammy winner has joined forces with the American Heart Association for its Red Steps campaign The idea is for people to post photos of themselves taking steps while wearing red socks, to become more physically active and raise awareness of the risks and symptoms of heart failure The goal is six million red steps, in recognition of the nearly six million Americans living with heart failure For Latifah, born Dana Owens, the effort is personal Her mother, Rita Owens, suffers from scleroderma, an incurable autoimmune disease that has caused scar tissue build up in her lungs The -year-old former schoolteacher also has pulmonary hypertension, which impacts her ability to breathe It\\'s just a way for us to show support for all of those people who are dealing with the condition and those who care for them, Latifah told ABC Radio Latifah said her mothers approval of the campaign was imperative to her getting involved I really wanted her to be involved and I wanted her permission, Latifah confided She\\'s just so eloquent and positive in the way she puts things, it\\'s something that we as a family like to share with other people because realize that by her talking about some of her medical issues, a lot of people are reaching out and saying \\'Me too\\' The rapper turned actress says the campaign has also helped her get healthy I am not perfect when it comes to just staying fit constantly all the time, she shared, saying the campaign reminds her to be diligent and that she doesnt have to do it alone But most of all its about helping other Sometimes I can rally that support and I can do right in my own group of family and friends, she says Copyright  , ABC Radio All rights reserved'"
      ]
     },
     "execution_count": 13,
     "metadata": {},
     "output_type": "execute_result"
    }
   ],
   "source": [
    "train_df['text'][2]"
   ]
  },
  {
   "cell_type": "code",
   "execution_count": 14,
   "metadata": {},
   "outputs": [
    {
     "name": "stdout",
     "output_type": "stream",
     "text": [
      "<class 'pandas.core.frame.DataFrame'>\n",
      "RangeIndex: 1157 entries, 0 to 1156\n",
      "Data columns (total 10 columns):\n",
      "Source             1157 non-null object\n",
      "Host               1098 non-null object\n",
      "Link               1157 non-null object\n",
      "Date(ET)           1157 non-null object\n",
      "Time(ET)           1157 non-null object\n",
      "time(GMT)          996 non-null object\n",
      "Title              941 non-null object\n",
      "TRANS_CONV_TEXT    1156 non-null object\n",
      "Patient_Tag        1157 non-null int64\n",
      "text               940 non-null object\n",
      "dtypes: int64(1), object(9)\n",
      "memory usage: 90.5+ KB\n"
     ]
    }
   ],
   "source": [
    "train_df.info()"
   ]
  },
  {
   "cell_type": "code",
   "execution_count": 15,
   "metadata": {},
   "outputs": [],
   "source": [
    "#test_df.info()"
   ]
  },
  {
   "cell_type": "code",
   "execution_count": 16,
   "metadata": {},
   "outputs": [
    {
     "data": {
      "text/plain": [
       "Source               0\n",
       "Host                59\n",
       "Link                 0\n",
       "Date(ET)             0\n",
       "Time(ET)             0\n",
       "time(GMT)          161\n",
       "Title              216\n",
       "TRANS_CONV_TEXT      1\n",
       "Patient_Tag          0\n",
       "text               217\n",
       "dtype: int64"
      ]
     },
     "execution_count": 16,
     "metadata": {},
     "output_type": "execute_result"
    }
   ],
   "source": [
    "train_df.isnull().sum()"
   ]
  },
  {
   "cell_type": "code",
   "execution_count": 85,
   "metadata": {},
   "outputs": [
    {
     "data": {
      "text/plain": [
       "Index                0\n",
       "Source               0\n",
       "Host                30\n",
       "Link                 0\n",
       "Date(ET)             0\n",
       "Time(ET)             0\n",
       "time(GMT)           91\n",
       "Title              117\n",
       "TRANS_CONV_TEXT      0\n",
       "Unnamed: 9         570\n",
       "text                 0\n",
       "dtype: int64"
      ]
     },
     "execution_count": 85,
     "metadata": {},
     "output_type": "execute_result"
    }
   ],
   "source": [
    "test_df.isnull().sum()"
   ]
  },
  {
   "cell_type": "code",
   "execution_count": 105,
   "metadata": {},
   "outputs": [],
   "source": [
    "new_train_df = train_df"
   ]
  },
  {
   "cell_type": "code",
   "execution_count": 106,
   "metadata": {},
   "outputs": [],
   "source": [
    "new_train_df=new_train_df.drop(new_train_df.index[841])"
   ]
  },
  {
   "cell_type": "code",
   "execution_count": 107,
   "metadata": {},
   "outputs": [
    {
     "name": "stdout",
     "output_type": "stream",
     "text": [
      "<class 'pandas.core.frame.DataFrame'>\n",
      "Int64Index: 1156 entries, 0 to 1156\n",
      "Data columns (total 10 columns):\n",
      "Source             1156 non-null object\n",
      "Host               1097 non-null object\n",
      "Link               1156 non-null object\n",
      "Date(ET)           1156 non-null object\n",
      "Time(ET)           1156 non-null object\n",
      "time(GMT)          995 non-null object\n",
      "Title              940 non-null object\n",
      "TRANS_CONV_TEXT    1156 non-null object\n",
      "Patient_Tag        1156 non-null int64\n",
      "text               1156 non-null object\n",
      "dtypes: int64(1), object(9)\n",
      "memory usage: 99.3+ KB\n"
     ]
    }
   ],
   "source": [
    "new_train_df.info()"
   ]
  },
  {
   "cell_type": "code",
   "execution_count": 108,
   "metadata": {},
   "outputs": [
    {
     "data": {
      "text/plain": [
       "Source               0\n",
       "Host                59\n",
       "Link                 0\n",
       "Date(ET)             0\n",
       "Time(ET)             0\n",
       "time(GMT)          161\n",
       "Title              216\n",
       "TRANS_CONV_TEXT      0\n",
       "Patient_Tag          0\n",
       "text                 0\n",
       "dtype: int64"
      ]
     },
     "execution_count": 108,
     "metadata": {},
     "output_type": "execute_result"
    }
   ],
   "source": [
    "new_train_df.isnull().sum()"
   ]
  },
  {
   "cell_type": "code",
   "execution_count": 109,
   "metadata": {},
   "outputs": [],
   "source": [
    "def remove_punctuation(txt):\n",
    "    no_punct=''.join([c for c in txt if c not in string.punctuation])\n",
    "    return no_punct"
   ]
  },
  {
   "cell_type": "code",
   "execution_count": 110,
   "metadata": {},
   "outputs": [
    {
     "data": {
      "text/plain": [
       "0    I dont disagree with you in principle Im just ...\n",
       "1    I am always dizzy I get dizzy standing up so I...\n",
       "2    AxelleBauerGriffinFilmMagicNEW YORK  Queen Lat...\n",
       "3    I am 17 and I have been throwing up for about ...\n",
       "4    Quote Originally Posted by Boyan Silyavski Wak...\n",
       "Name: text, dtype: object"
      ]
     },
     "execution_count": 110,
     "metadata": {},
     "output_type": "execute_result"
    }
   ],
   "source": [
    "new_train_df['text']=new_train_df['text'].apply(lambda x: remove_punctuation(x))\n",
    "new_train_df['text'].head()"
   ]
  },
  {
   "cell_type": "code",
   "execution_count": 111,
   "metadata": {},
   "outputs": [
    {
     "data": {
      "text/plain": [
       "0    baby slice son late kimbo slice signed profess...\n",
       "1    pfont facesansserif sizei silicone salinefille...\n",
       "2    previously sodiumglucose cotransporter sglt in...\n",
       "3    hello suffer congestive heart failure due mi i...\n",
       "4    daily dose vitamin improves heart function peo...\n",
       "Name: text, dtype: object"
      ]
     },
     "execution_count": 111,
     "metadata": {},
     "output_type": "execute_result"
    }
   ],
   "source": [
    "test_df['text']=test_df['text'].apply(lambda x: remove_punctuation(x))\n",
    "test_df['text'].head()"
   ]
  },
  {
   "cell_type": "code",
   "execution_count": 112,
   "metadata": {},
   "outputs": [],
   "source": [
    "#print(tokenizer.tokenize('it\\'s something that we as a family like to share with other people because realize that by her talking about some of her medical issues, a lot of people are reaching out and saying \\'Me too\\' The rapper turned actress says the campaign has also helped her get healthy I am n'))"
   ]
  },
  {
   "cell_type": "code",
   "execution_count": 113,
   "metadata": {},
   "outputs": [],
   "source": [
    "import nltk"
   ]
  },
  {
   "cell_type": "code",
   "execution_count": 114,
   "metadata": {},
   "outputs": [],
   "source": [
    "from nltk.tokenize import RegexpTokenizer\n",
    "tokenizer=RegexpTokenizer(r'\\w+')"
   ]
  },
  {
   "cell_type": "code",
   "execution_count": 115,
   "metadata": {},
   "outputs": [
    {
     "data": {
      "text/plain": [
       "0    [i, dont, disagree, with, you, in, principle, ...\n",
       "1    [i, am, always, dizzy, i, get, dizzy, standing...\n",
       "2    [axellebauergriffinfilmmagicnew, york, queen, ...\n",
       "3    [i, am, 17, and, i, have, been, throwing, up, ...\n",
       "4    [quote, originally, posted, by, boyan, silyavs...\n",
       "Name: text, dtype: object"
      ]
     },
     "execution_count": 115,
     "metadata": {},
     "output_type": "execute_result"
    }
   ],
   "source": [
    "new_train_df['text']=new_train_df['text'].apply(lambda x: tokenizer.tokenize(x.lower()))\n",
    "new_train_df['text'].head()"
   ]
  },
  {
   "cell_type": "code",
   "execution_count": 116,
   "metadata": {},
   "outputs": [
    {
     "data": {
      "text/plain": [
       "0    [baby, slice, son, late, kimbo, slice, signed,...\n",
       "1    [pfont, facesansserif, sizei, silicone, saline...\n",
       "2    [previously, sodiumglucose, cotransporter, sgl...\n",
       "3    [hello, suffer, congestive, heart, failure, du...\n",
       "4    [daily, dose, vitamin, improves, heart, functi...\n",
       "Name: text, dtype: object"
      ]
     },
     "execution_count": 116,
     "metadata": {},
     "output_type": "execute_result"
    }
   ],
   "source": [
    "test_df['text']=test_df['text'].apply(lambda x: tokenizer.tokenize(x.lower()))\n",
    "test_df['text'].head()"
   ]
  },
  {
   "cell_type": "code",
   "execution_count": 117,
   "metadata": {},
   "outputs": [],
   "source": [
    "from nltk.corpus import stopwords"
   ]
  },
  {
   "cell_type": "code",
   "execution_count": 118,
   "metadata": {},
   "outputs": [],
   "source": [
    "def remove_stopwords(txt):\n",
    "    words=[w for w in txt if w not in stopwords.words('english')]\n",
    "    return words"
   ]
  },
  {
   "cell_type": "code",
   "execution_count": 119,
   "metadata": {},
   "outputs": [
    {
     "data": {
      "text/plain": [
       "0    [dont, disagree, principle, im, saying, entres...\n",
       "1    [always, dizzy, get, dizzy, standing, made, ge...\n",
       "2    [axellebauergriffinfilmmagicnew, york, queen, ...\n",
       "3    [17, throwing, year, nowalmost, everyday, thro...\n",
       "4    [quote, originally, posted, boyan, silyavski, ...\n",
       "Name: text, dtype: object"
      ]
     },
     "execution_count": 119,
     "metadata": {},
     "output_type": "execute_result"
    }
   ],
   "source": [
    "new_train_df['text']=new_train_df['text'].apply(lambda x: remove_stopwords(x))\n",
    "new_train_df['text'].head()"
   ]
  },
  {
   "cell_type": "code",
   "execution_count": 120,
   "metadata": {},
   "outputs": [
    {
     "data": {
      "text/plain": [
       "0    [baby, slice, son, late, kimbo, slice, signed,...\n",
       "1    [pfont, facesansserif, sizei, silicone, saline...\n",
       "2    [previously, sodiumglucose, cotransporter, sgl...\n",
       "3    [hello, suffer, congestive, heart, failure, du...\n",
       "4    [daily, dose, vitamin, improves, heart, functi...\n",
       "Name: text, dtype: object"
      ]
     },
     "execution_count": 120,
     "metadata": {},
     "output_type": "execute_result"
    }
   ],
   "source": [
    "test_df['text']=test_df['text'].apply(lambda x: remove_stopwords(x))\n",
    "test_df['text'].head()"
   ]
  },
  {
   "cell_type": "code",
   "execution_count": 121,
   "metadata": {},
   "outputs": [],
   "source": [
    "#train_df.to_csv('file_name.csv')"
   ]
  },
  {
   "cell_type": "code",
   "execution_count": 122,
   "metadata": {},
   "outputs": [],
   "source": [
    "from nltk.stem import WordNetLemmatizer\n",
    "lemmatizer=WordNetLemmatizer()"
   ]
  },
  {
   "cell_type": "code",
   "execution_count": 123,
   "metadata": {},
   "outputs": [],
   "source": [
    "def word_lemmatizer(txt):\n",
    "    lem_text=' '.join([lemmatizer.lemmatize(i) for i in txt])\n",
    "    return lem_text"
   ]
  },
  {
   "cell_type": "code",
   "execution_count": 124,
   "metadata": {},
   "outputs": [],
   "source": [
    "new_train_df['text']=new_train_df['text'].apply(lambda x: word_lemmatizer(x))"
   ]
  },
  {
   "cell_type": "code",
   "execution_count": 125,
   "metadata": {},
   "outputs": [],
   "source": [
    "test_df['text']=test_df['text'].apply(lambda x: word_lemmatizer(x))"
   ]
  },
  {
   "cell_type": "code",
   "execution_count": 126,
   "metadata": {},
   "outputs": [
    {
     "data": {
      "text/html": [
       "<div>\n",
       "<style scoped>\n",
       "    .dataframe tbody tr th:only-of-type {\n",
       "        vertical-align: middle;\n",
       "    }\n",
       "\n",
       "    .dataframe tbody tr th {\n",
       "        vertical-align: top;\n",
       "    }\n",
       "\n",
       "    .dataframe thead th {\n",
       "        text-align: right;\n",
       "    }\n",
       "</style>\n",
       "<table border=\"1\" class=\"dataframe\">\n",
       "  <thead>\n",
       "    <tr style=\"text-align: right;\">\n",
       "      <th></th>\n",
       "      <th>Source</th>\n",
       "      <th>Host</th>\n",
       "      <th>Link</th>\n",
       "      <th>Date(ET)</th>\n",
       "      <th>Time(ET)</th>\n",
       "      <th>time(GMT)</th>\n",
       "      <th>Title</th>\n",
       "      <th>TRANS_CONV_TEXT</th>\n",
       "      <th>Patient_Tag</th>\n",
       "      <th>text</th>\n",
       "    </tr>\n",
       "  </thead>\n",
       "  <tbody>\n",
       "    <tr>\n",
       "      <th>0</th>\n",
       "      <td>FORUMS</td>\n",
       "      <td>cafepharma.com</td>\n",
       "      <td>http://cafepharma.com/boards/threads/epstein.5...</td>\n",
       "      <td>6/15/2016</td>\n",
       "      <td>13:58:00</td>\n",
       "      <td>6/15/2016 23:28</td>\n",
       "      <td>Epstein</td>\n",
       "      <td>I don't disagree with you in principle. I'm ju...</td>\n",
       "      <td>0</td>\n",
       "      <td>dont disagree principle im saying entresto maj...</td>\n",
       "    </tr>\n",
       "    <tr>\n",
       "      <th>1</th>\n",
       "      <td>FORUMS</td>\n",
       "      <td>www.patient.co.uk</td>\n",
       "      <td>http://www.patient.co.uk/forums/discuss/enlarg...</td>\n",
       "      <td>5/7/2016</td>\n",
       "      <td>0.820833333</td>\n",
       "      <td>42498.21667</td>\n",
       "      <td>Enlarged Heart.Thread Enlarged Heart</td>\n",
       "      <td>I am always dizzy I get dizzy standing up so I...</td>\n",
       "      <td>1</td>\n",
       "      <td>always dizzy get dizzy standing made get slow ...</td>\n",
       "    </tr>\n",
       "    <tr>\n",
       "      <th>2</th>\n",
       "      <td>BLOG</td>\n",
       "      <td>http://abcnewsradioonline.com/entertainment-news</td>\n",
       "      <td>http://abcnewsradioonline.com/entertainment-ne...</td>\n",
       "      <td>4/14/2016</td>\n",
       "      <td>15:00:38</td>\n",
       "      <td>4/15/2016 0:30</td>\n",
       "      <td>Queen Latifah Joins American Heart Association...</td>\n",
       "      <td>Axelle/Bauer-Griffin/FilmMagic(NEW YORK) -- Qu...</td>\n",
       "      <td>0</td>\n",
       "      <td>axellebauergriffinfilmmagicnew york queen lati...</td>\n",
       "    </tr>\n",
       "    <tr>\n",
       "      <th>3</th>\n",
       "      <td>FORUMS</td>\n",
       "      <td>www.cancer-forums.net</td>\n",
       "      <td>http://www.cancer-forums.net/viewtopic.php?f=1...</td>\n",
       "      <td>6/18/2016</td>\n",
       "      <td>20:46:00</td>\n",
       "      <td>6/19/2016 6:16</td>\n",
       "      <td>Bulaemia</td>\n",
       "      <td>I am 17 and I have been throwing up for about ...</td>\n",
       "      <td>1</td>\n",
       "      <td>17 throwing year nowalmost everyday thrown blo...</td>\n",
       "    </tr>\n",
       "    <tr>\n",
       "      <th>4</th>\n",
       "      <td>FORUMS</td>\n",
       "      <td>www.diyaudio.com</td>\n",
       "      <td>http://www.diyaudio.com/forums/lounge/292252-d...</td>\n",
       "      <td>6/15/2016</td>\n",
       "      <td>3:26:00</td>\n",
       "      <td>6/15/2016 12:56</td>\n",
       "      <td>DIY Silver interconnects and RCAs???</td>\n",
       "      <td>Quote: Originally Posted by Boyan Silyavski Wa...</td>\n",
       "      <td>0</td>\n",
       "      <td>quote originally posted boyan silyavski wake f...</td>\n",
       "    </tr>\n",
       "  </tbody>\n",
       "</table>\n",
       "</div>"
      ],
      "text/plain": [
       "   Source                                              Host  \\\n",
       "0  FORUMS                                    cafepharma.com   \n",
       "1  FORUMS                                 www.patient.co.uk   \n",
       "2    BLOG  http://abcnewsradioonline.com/entertainment-news   \n",
       "3  FORUMS                             www.cancer-forums.net   \n",
       "4  FORUMS                                  www.diyaudio.com   \n",
       "\n",
       "                                                Link   Date(ET)     Time(ET)  \\\n",
       "0  http://cafepharma.com/boards/threads/epstein.5...  6/15/2016     13:58:00   \n",
       "1  http://www.patient.co.uk/forums/discuss/enlarg...   5/7/2016  0.820833333   \n",
       "2  http://abcnewsradioonline.com/entertainment-ne...  4/14/2016     15:00:38   \n",
       "3  http://www.cancer-forums.net/viewtopic.php?f=1...  6/18/2016     20:46:00   \n",
       "4  http://www.diyaudio.com/forums/lounge/292252-d...  6/15/2016      3:26:00   \n",
       "\n",
       "         time(GMT)                                              Title  \\\n",
       "0  6/15/2016 23:28                                            Epstein   \n",
       "1      42498.21667               Enlarged Heart.Thread Enlarged Heart   \n",
       "2   4/15/2016 0:30  Queen Latifah Joins American Heart Association...   \n",
       "3   6/19/2016 6:16                                           Bulaemia   \n",
       "4  6/15/2016 12:56               DIY Silver interconnects and RCAs???   \n",
       "\n",
       "                                     TRANS_CONV_TEXT  Patient_Tag  \\\n",
       "0  I don't disagree with you in principle. I'm ju...            0   \n",
       "1  I am always dizzy I get dizzy standing up so I...            1   \n",
       "2  Axelle/Bauer-Griffin/FilmMagic(NEW YORK) -- Qu...            0   \n",
       "3  I am 17 and I have been throwing up for about ...            1   \n",
       "4  Quote: Originally Posted by Boyan Silyavski Wa...            0   \n",
       "\n",
       "                                                text  \n",
       "0  dont disagree principle im saying entresto maj...  \n",
       "1  always dizzy get dizzy standing made get slow ...  \n",
       "2  axellebauergriffinfilmmagicnew york queen lati...  \n",
       "3  17 throwing year nowalmost everyday thrown blo...  \n",
       "4  quote originally posted boyan silyavski wake f...  "
      ]
     },
     "execution_count": 126,
     "metadata": {},
     "output_type": "execute_result"
    }
   ],
   "source": [
    "new_train_df.head()"
   ]
  },
  {
   "cell_type": "code",
   "execution_count": 127,
   "metadata": {},
   "outputs": [
    {
     "data": {
      "text/html": [
       "<div>\n",
       "<style scoped>\n",
       "    .dataframe tbody tr th:only-of-type {\n",
       "        vertical-align: middle;\n",
       "    }\n",
       "\n",
       "    .dataframe tbody tr th {\n",
       "        vertical-align: top;\n",
       "    }\n",
       "\n",
       "    .dataframe thead th {\n",
       "        text-align: right;\n",
       "    }\n",
       "</style>\n",
       "<table border=\"1\" class=\"dataframe\">\n",
       "  <thead>\n",
       "    <tr style=\"text-align: right;\">\n",
       "      <th></th>\n",
       "      <th>Index</th>\n",
       "      <th>Source</th>\n",
       "      <th>Host</th>\n",
       "      <th>Link</th>\n",
       "      <th>Date(ET)</th>\n",
       "      <th>Time(ET)</th>\n",
       "      <th>time(GMT)</th>\n",
       "      <th>Title</th>\n",
       "      <th>TRANS_CONV_TEXT</th>\n",
       "      <th>Unnamed: 9</th>\n",
       "      <th>text</th>\n",
       "    </tr>\n",
       "  </thead>\n",
       "  <tbody>\n",
       "    <tr>\n",
       "      <th>0</th>\n",
       "      <td>1</td>\n",
       "      <td>BLOG</td>\n",
       "      <td>uhmagonline.com</td>\n",
       "      <td>http://uhmagonline.com/son-of-the-late-kimbo-s...</td>\n",
       "      <td>7/30/2016</td>\n",
       "      <td>0:41:23</td>\n",
       "      <td>NaN</td>\n",
       "      <td>NaN</td>\n",
       "      <td>Baby Slice, the son of the late Kimbo Slice, h...</td>\n",
       "      <td>NaN</td>\n",
       "      <td>baby slice son late kimbo slice signed profess...</td>\n",
       "    </tr>\n",
       "    <tr>\n",
       "      <th>1</th>\n",
       "      <td>2</td>\n",
       "      <td>FORUMS</td>\n",
       "      <td>implantinformationnetwork.yuku.com</td>\n",
       "      <td>http://implantinformationnetwork.yuku.com/topi...</td>\n",
       "      <td>6/20/2016</td>\n",
       "      <td>0:07:30</td>\n",
       "      <td>6/20/2016 9:37</td>\n",
       "      <td>My Story --</td>\n",
       "      <td>&lt;p&gt;&lt;font face=\"sans-serif\" size=\"3\"&gt;I have had...</td>\n",
       "      <td>NaN</td>\n",
       "      <td>pfont facesansserif sizei silicone salinefille...</td>\n",
       "    </tr>\n",
       "    <tr>\n",
       "      <th>2</th>\n",
       "      <td>3</td>\n",
       "      <td>BLOG</td>\n",
       "      <td>http://cestlapharm.blogspot.com</td>\n",
       "      <td>http://cestlapharm.blogspot.com/2016/06/us-fda...</td>\n",
       "      <td>6/15/2016</td>\n",
       "      <td>15:44:00</td>\n",
       "      <td>6/16/2016 1:14</td>\n",
       "      <td>US FDA ?????canagliflozin?dapagliflozin?????????</td>\n",
       "      <td>Previously, sodium-glucose cotransporter-2 (SG...</td>\n",
       "      <td>NaN</td>\n",
       "      <td>previously sodiumglucose cotransporter sglt in...</td>\n",
       "    </tr>\n",
       "    <tr>\n",
       "      <th>3</th>\n",
       "      <td>4</td>\n",
       "      <td>FORUMS</td>\n",
       "      <td>healthboards.com</td>\n",
       "      <td>http://www.healthboards.com/boards/heart-disor...</td>\n",
       "      <td>7/17/2016</td>\n",
       "      <td>19:41:00</td>\n",
       "      <td>NaN</td>\n",
       "      <td>NaN</td>\n",
       "      <td>Hello. I suffer from congestive heart failure ...</td>\n",
       "      <td>NaN</td>\n",
       "      <td>hello suffer congestive heart failure due mi i...</td>\n",
       "    </tr>\n",
       "    <tr>\n",
       "      <th>4</th>\n",
       "      <td>5</td>\n",
       "      <td>BLOG</td>\n",
       "      <td>http://www.sciencecodex.com</td>\n",
       "      <td>http://www.sciencecodex.com/vitamin_d_improves...</td>\n",
       "      <td>4/4/2016</td>\n",
       "      <td>15:30:45</td>\n",
       "      <td>4/5/2016 1:00</td>\n",
       "      <td>Vitamin D improves heart function, study finds</td>\n",
       "      <td>A daily dose of vitamin D3 improves heart func...</td>\n",
       "      <td>NaN</td>\n",
       "      <td>daily dose vitamin improves heart function peo...</td>\n",
       "    </tr>\n",
       "  </tbody>\n",
       "</table>\n",
       "</div>"
      ],
      "text/plain": [
       "   Index  Source                                Host  \\\n",
       "0      1    BLOG                     uhmagonline.com   \n",
       "1      2  FORUMS  implantinformationnetwork.yuku.com   \n",
       "2      3    BLOG     http://cestlapharm.blogspot.com   \n",
       "3      4  FORUMS                    healthboards.com   \n",
       "4      5    BLOG         http://www.sciencecodex.com   \n",
       "\n",
       "                                                Link   Date(ET)  Time(ET)  \\\n",
       "0  http://uhmagonline.com/son-of-the-late-kimbo-s...  7/30/2016   0:41:23   \n",
       "1  http://implantinformationnetwork.yuku.com/topi...  6/20/2016   0:07:30   \n",
       "2  http://cestlapharm.blogspot.com/2016/06/us-fda...  6/15/2016  15:44:00   \n",
       "3  http://www.healthboards.com/boards/heart-disor...  7/17/2016  19:41:00   \n",
       "4  http://www.sciencecodex.com/vitamin_d_improves...   4/4/2016  15:30:45   \n",
       "\n",
       "        time(GMT)                                             Title  \\\n",
       "0             NaN                                               NaN   \n",
       "1  6/20/2016 9:37                                       My Story --   \n",
       "2  6/16/2016 1:14  US FDA ?????canagliflozin?dapagliflozin?????????   \n",
       "3             NaN                                               NaN   \n",
       "4   4/5/2016 1:00    Vitamin D improves heart function, study finds   \n",
       "\n",
       "                                     TRANS_CONV_TEXT Unnamed: 9  \\\n",
       "0  Baby Slice, the son of the late Kimbo Slice, h...        NaN   \n",
       "1  <p><font face=\"sans-serif\" size=\"3\">I have had...        NaN   \n",
       "2  Previously, sodium-glucose cotransporter-2 (SG...        NaN   \n",
       "3  Hello. I suffer from congestive heart failure ...        NaN   \n",
       "4  A daily dose of vitamin D3 improves heart func...        NaN   \n",
       "\n",
       "                                                text  \n",
       "0  baby slice son late kimbo slice signed profess...  \n",
       "1  pfont facesansserif sizei silicone salinefille...  \n",
       "2  previously sodiumglucose cotransporter sglt in...  \n",
       "3  hello suffer congestive heart failure due mi i...  \n",
       "4  daily dose vitamin improves heart function peo...  "
      ]
     },
     "execution_count": 127,
     "metadata": {},
     "output_type": "execute_result"
    }
   ],
   "source": [
    "test_df.head()"
   ]
  },
  {
   "cell_type": "code",
   "execution_count": 128,
   "metadata": {},
   "outputs": [],
   "source": [
    "#from nltk.stem import PorterStemmer\n",
    "#stemmer=PorterStemmer()\n",
    "#def word_stemmer(text):\n",
    "#    stem_text=\" \".join([stemmer.stem(i) for i in text])\n",
    "#    return stem_text\n",
    "\n",
    "#new_train_df['text']=new_train_df['text'].apply(lambda x: word_stemmer(x))\n",
    "#new_train_df['text'].head(20)"
   ]
  },
  {
   "cell_type": "code",
   "execution_count": 129,
   "metadata": {},
   "outputs": [
    {
     "data": {
      "text/html": [
       "<div>\n",
       "<style scoped>\n",
       "    .dataframe tbody tr th:only-of-type {\n",
       "        vertical-align: middle;\n",
       "    }\n",
       "\n",
       "    .dataframe tbody tr th {\n",
       "        vertical-align: top;\n",
       "    }\n",
       "\n",
       "    .dataframe thead th {\n",
       "        text-align: right;\n",
       "    }\n",
       "</style>\n",
       "<table border=\"1\" class=\"dataframe\">\n",
       "  <thead>\n",
       "    <tr style=\"text-align: right;\">\n",
       "      <th></th>\n",
       "      <th>Source</th>\n",
       "      <th>Host</th>\n",
       "      <th>Link</th>\n",
       "      <th>Date(ET)</th>\n",
       "      <th>Time(ET)</th>\n",
       "      <th>time(GMT)</th>\n",
       "      <th>Title</th>\n",
       "      <th>TRANS_CONV_TEXT</th>\n",
       "      <th>Patient_Tag</th>\n",
       "      <th>text</th>\n",
       "    </tr>\n",
       "  </thead>\n",
       "  <tbody>\n",
       "    <tr>\n",
       "      <th>0</th>\n",
       "      <td>FORUMS</td>\n",
       "      <td>cafepharma.com</td>\n",
       "      <td>http://cafepharma.com/boards/threads/epstein.5...</td>\n",
       "      <td>6/15/2016</td>\n",
       "      <td>13:58:00</td>\n",
       "      <td>6/15/2016 23:28</td>\n",
       "      <td>Epstein</td>\n",
       "      <td>I don't disagree with you in principle. I'm ju...</td>\n",
       "      <td>0</td>\n",
       "      <td>dont disagree principle im saying entresto maj...</td>\n",
       "    </tr>\n",
       "    <tr>\n",
       "      <th>1</th>\n",
       "      <td>FORUMS</td>\n",
       "      <td>www.patient.co.uk</td>\n",
       "      <td>http://www.patient.co.uk/forums/discuss/enlarg...</td>\n",
       "      <td>5/7/2016</td>\n",
       "      <td>0.820833333</td>\n",
       "      <td>42498.21667</td>\n",
       "      <td>Enlarged Heart.Thread Enlarged Heart</td>\n",
       "      <td>I am always dizzy I get dizzy standing up so I...</td>\n",
       "      <td>1</td>\n",
       "      <td>always dizzy get dizzy standing made get slow ...</td>\n",
       "    </tr>\n",
       "    <tr>\n",
       "      <th>2</th>\n",
       "      <td>BLOG</td>\n",
       "      <td>http://abcnewsradioonline.com/entertainment-news</td>\n",
       "      <td>http://abcnewsradioonline.com/entertainment-ne...</td>\n",
       "      <td>4/14/2016</td>\n",
       "      <td>15:00:38</td>\n",
       "      <td>4/15/2016 0:30</td>\n",
       "      <td>Queen Latifah Joins American Heart Association...</td>\n",
       "      <td>Axelle/Bauer-Griffin/FilmMagic(NEW YORK) -- Qu...</td>\n",
       "      <td>0</td>\n",
       "      <td>axellebauergriffinfilmmagicnew york queen lati...</td>\n",
       "    </tr>\n",
       "    <tr>\n",
       "      <th>3</th>\n",
       "      <td>FORUMS</td>\n",
       "      <td>www.cancer-forums.net</td>\n",
       "      <td>http://www.cancer-forums.net/viewtopic.php?f=1...</td>\n",
       "      <td>6/18/2016</td>\n",
       "      <td>20:46:00</td>\n",
       "      <td>6/19/2016 6:16</td>\n",
       "      <td>Bulaemia</td>\n",
       "      <td>I am 17 and I have been throwing up for about ...</td>\n",
       "      <td>1</td>\n",
       "      <td>17 throwing year nowalmost everyday thrown blo...</td>\n",
       "    </tr>\n",
       "    <tr>\n",
       "      <th>4</th>\n",
       "      <td>FORUMS</td>\n",
       "      <td>www.diyaudio.com</td>\n",
       "      <td>http://www.diyaudio.com/forums/lounge/292252-d...</td>\n",
       "      <td>6/15/2016</td>\n",
       "      <td>3:26:00</td>\n",
       "      <td>6/15/2016 12:56</td>\n",
       "      <td>DIY Silver interconnects and RCAs???</td>\n",
       "      <td>Quote: Originally Posted by Boyan Silyavski Wa...</td>\n",
       "      <td>0</td>\n",
       "      <td>quote originally posted boyan silyavski wake f...</td>\n",
       "    </tr>\n",
       "  </tbody>\n",
       "</table>\n",
       "</div>"
      ],
      "text/plain": [
       "   Source                                              Host  \\\n",
       "0  FORUMS                                    cafepharma.com   \n",
       "1  FORUMS                                 www.patient.co.uk   \n",
       "2    BLOG  http://abcnewsradioonline.com/entertainment-news   \n",
       "3  FORUMS                             www.cancer-forums.net   \n",
       "4  FORUMS                                  www.diyaudio.com   \n",
       "\n",
       "                                                Link   Date(ET)     Time(ET)  \\\n",
       "0  http://cafepharma.com/boards/threads/epstein.5...  6/15/2016     13:58:00   \n",
       "1  http://www.patient.co.uk/forums/discuss/enlarg...   5/7/2016  0.820833333   \n",
       "2  http://abcnewsradioonline.com/entertainment-ne...  4/14/2016     15:00:38   \n",
       "3  http://www.cancer-forums.net/viewtopic.php?f=1...  6/18/2016     20:46:00   \n",
       "4  http://www.diyaudio.com/forums/lounge/292252-d...  6/15/2016      3:26:00   \n",
       "\n",
       "         time(GMT)                                              Title  \\\n",
       "0  6/15/2016 23:28                                            Epstein   \n",
       "1      42498.21667               Enlarged Heart.Thread Enlarged Heart   \n",
       "2   4/15/2016 0:30  Queen Latifah Joins American Heart Association...   \n",
       "3   6/19/2016 6:16                                           Bulaemia   \n",
       "4  6/15/2016 12:56               DIY Silver interconnects and RCAs???   \n",
       "\n",
       "                                     TRANS_CONV_TEXT  Patient_Tag  \\\n",
       "0  I don't disagree with you in principle. I'm ju...            0   \n",
       "1  I am always dizzy I get dizzy standing up so I...            1   \n",
       "2  Axelle/Bauer-Griffin/FilmMagic(NEW YORK) -- Qu...            0   \n",
       "3  I am 17 and I have been throwing up for about ...            1   \n",
       "4  Quote: Originally Posted by Boyan Silyavski Wa...            0   \n",
       "\n",
       "                                                text  \n",
       "0  dont disagree principle im saying entresto maj...  \n",
       "1  always dizzy get dizzy standing made get slow ...  \n",
       "2  axellebauergriffinfilmmagicnew york queen lati...  \n",
       "3  17 throwing year nowalmost everyday thrown blo...  \n",
       "4  quote originally posted boyan silyavski wake f...  "
      ]
     },
     "execution_count": 129,
     "metadata": {},
     "output_type": "execute_result"
    }
   ],
   "source": [
    "new_train_df.head()"
   ]
  },
  {
   "cell_type": "code",
   "execution_count": 130,
   "metadata": {},
   "outputs": [],
   "source": [
    "from sklearn.feature_extraction.text import TfidfVectorizer\n",
    "from sklearn.model_selection import train_test_split"
   ]
  },
  {
   "cell_type": "code",
   "execution_count": 131,
   "metadata": {},
   "outputs": [],
   "source": [
    "y=new_train_df['Patient_Tag']"
   ]
  },
  {
   "cell_type": "code",
   "execution_count": 132,
   "metadata": {},
   "outputs": [],
   "source": [
    "x_train,x_test,y_train,y_test=train_test_split(new_train_df['text'],y,random_state=42,test_size=0.2)"
   ]
  },
  {
   "cell_type": "code",
   "execution_count": 133,
   "metadata": {},
   "outputs": [],
   "source": [
    "test_csv_x=test_df['text'].values"
   ]
  },
  {
   "cell_type": "code",
   "execution_count": 134,
   "metadata": {},
   "outputs": [
    {
     "data": {
      "text/plain": [
       "(571,)"
      ]
     },
     "execution_count": 134,
     "metadata": {},
     "output_type": "execute_result"
    }
   ],
   "source": [
    "test_csv_x.shape"
   ]
  },
  {
   "cell_type": "code",
   "execution_count": 135,
   "metadata": {},
   "outputs": [
    {
     "data": {
      "text/plain": [
       "(924,)"
      ]
     },
     "execution_count": 135,
     "metadata": {},
     "output_type": "execute_result"
    }
   ],
   "source": [
    "x_train.shape"
   ]
  },
  {
   "cell_type": "code",
   "execution_count": 136,
   "metadata": {},
   "outputs": [
    {
     "data": {
      "text/plain": [
       "(924,)"
      ]
     },
     "execution_count": 136,
     "metadata": {},
     "output_type": "execute_result"
    }
   ],
   "source": [
    "y_train.shape"
   ]
  },
  {
   "cell_type": "code",
   "execution_count": 137,
   "metadata": {},
   "outputs": [],
   "source": [
    "tfidf_vectorizer=TfidfVectorizer(stop_words='english',max_df=0.7)"
   ]
  },
  {
   "cell_type": "code",
   "execution_count": 138,
   "metadata": {},
   "outputs": [],
   "source": [
    "tfidf_train=tfidf_vectorizer.fit_transform(x_train.values)"
   ]
  },
  {
   "cell_type": "code",
   "execution_count": 139,
   "metadata": {},
   "outputs": [
    {
     "data": {
      "text/plain": [
       "(924, 21316)"
      ]
     },
     "execution_count": 139,
     "metadata": {},
     "output_type": "execute_result"
    }
   ],
   "source": [
    "tfidf_train.shape"
   ]
  },
  {
   "cell_type": "code",
   "execution_count": 140,
   "metadata": {},
   "outputs": [],
   "source": [
    "tfidf_test = tfidf_vectorizer.transform(x_test.values)"
   ]
  },
  {
   "cell_type": "code",
   "execution_count": 141,
   "metadata": {},
   "outputs": [],
   "source": [
    "tfidf_csv_test= tfidf_vectorizer.transform(test_csv_x)"
   ]
  },
  {
   "cell_type": "code",
   "execution_count": 142,
   "metadata": {},
   "outputs": [
    {
     "data": {
      "text/plain": [
       "(232, 21316)"
      ]
     },
     "execution_count": 142,
     "metadata": {},
     "output_type": "execute_result"
    }
   ],
   "source": [
    "tfidf_test.shape"
   ]
  },
  {
   "cell_type": "code",
   "execution_count": 143,
   "metadata": {},
   "outputs": [
    {
     "name": "stdout",
     "output_type": "stream",
     "text": [
      "['00', '0001', '0003ng', '0007', '00139', '0018', '001ng', '002', '003', '005']\n"
     ]
    }
   ],
   "source": [
    "print(tfidf_vectorizer.get_feature_names()[:10])"
   ]
  },
  {
   "cell_type": "code",
   "execution_count": 144,
   "metadata": {},
   "outputs": [
    {
     "data": {
      "text/plain": [
       "array([[0., 0., 0., ..., 0., 0., 0.],\n",
       "       [0., 0., 0., ..., 0., 0., 0.],\n",
       "       [0., 0., 0., ..., 0., 0., 0.],\n",
       "       [0., 0., 0., ..., 0., 0., 0.],\n",
       "       [0., 0., 0., ..., 0., 0., 0.]])"
      ]
     },
     "execution_count": 144,
     "metadata": {},
     "output_type": "execute_result"
    }
   ],
   "source": [
    "tfidf_train.A[:5]"
   ]
  },
  {
   "cell_type": "code",
   "execution_count": 145,
   "metadata": {},
   "outputs": [
    {
     "data": {
      "text/plain": [
       "array([[0., 0., 0., ..., 0., 0., 0.],\n",
       "       [0., 0., 0., ..., 0., 0., 0.],\n",
       "       [0., 0., 0., ..., 0., 0., 0.],\n",
       "       [0., 0., 0., ..., 0., 0., 0.],\n",
       "       [0., 0., 0., ..., 0., 0., 0.]])"
      ]
     },
     "execution_count": 145,
     "metadata": {},
     "output_type": "execute_result"
    }
   ],
   "source": [
    "tfidf_test.A[:5]"
   ]
  },
  {
   "cell_type": "code",
   "execution_count": 146,
   "metadata": {},
   "outputs": [],
   "source": [
    "tfidf_df = pd.DataFrame(data=tfidf_train.A, columns=tfidf_vectorizer.get_feature_names())"
   ]
  },
  {
   "cell_type": "code",
   "execution_count": 147,
   "metadata": {},
   "outputs": [
    {
     "data": {
      "text/html": [
       "<div>\n",
       "<style scoped>\n",
       "    .dataframe tbody tr th:only-of-type {\n",
       "        vertical-align: middle;\n",
       "    }\n",
       "\n",
       "    .dataframe tbody tr th {\n",
       "        vertical-align: top;\n",
       "    }\n",
       "\n",
       "    .dataframe thead th {\n",
       "        text-align: right;\n",
       "    }\n",
       "</style>\n",
       "<table border=\"1\" class=\"dataframe\">\n",
       "  <thead>\n",
       "    <tr style=\"text-align: right;\">\n",
       "      <th></th>\n",
       "      <th>00</th>\n",
       "      <th>0001</th>\n",
       "      <th>0003ng</th>\n",
       "      <th>0007</th>\n",
       "      <th>00139</th>\n",
       "      <th>0018</th>\n",
       "      <th>001ng</th>\n",
       "      <th>002</th>\n",
       "      <th>003</th>\n",
       "      <th>005</th>\n",
       "      <th>...</th>\n",
       "      <th>zone</th>\n",
       "      <th>zonegran</th>\n",
       "      <th>zovirox</th>\n",
       "      <th>zubrzycki</th>\n",
       "      <th>zucchini</th>\n",
       "      <th>zurich</th>\n",
       "      <th>zyban</th>\n",
       "      <th>zylstra</th>\n",
       "      <th>zyprexa</th>\n",
       "      <th>zyrtec</th>\n",
       "    </tr>\n",
       "  </thead>\n",
       "  <tbody>\n",
       "    <tr>\n",
       "      <th>0</th>\n",
       "      <td>0.0</td>\n",
       "      <td>0.0</td>\n",
       "      <td>0.0</td>\n",
       "      <td>0.0</td>\n",
       "      <td>0.0</td>\n",
       "      <td>0.0</td>\n",
       "      <td>0.0</td>\n",
       "      <td>0.0</td>\n",
       "      <td>0.0</td>\n",
       "      <td>0.0</td>\n",
       "      <td>...</td>\n",
       "      <td>0.0</td>\n",
       "      <td>0.0</td>\n",
       "      <td>0.0</td>\n",
       "      <td>0.0</td>\n",
       "      <td>0.0</td>\n",
       "      <td>0.0</td>\n",
       "      <td>0.0</td>\n",
       "      <td>0.0</td>\n",
       "      <td>0.0</td>\n",
       "      <td>0.0</td>\n",
       "    </tr>\n",
       "    <tr>\n",
       "      <th>1</th>\n",
       "      <td>0.0</td>\n",
       "      <td>0.0</td>\n",
       "      <td>0.0</td>\n",
       "      <td>0.0</td>\n",
       "      <td>0.0</td>\n",
       "      <td>0.0</td>\n",
       "      <td>0.0</td>\n",
       "      <td>0.0</td>\n",
       "      <td>0.0</td>\n",
       "      <td>0.0</td>\n",
       "      <td>...</td>\n",
       "      <td>0.0</td>\n",
       "      <td>0.0</td>\n",
       "      <td>0.0</td>\n",
       "      <td>0.0</td>\n",
       "      <td>0.0</td>\n",
       "      <td>0.0</td>\n",
       "      <td>0.0</td>\n",
       "      <td>0.0</td>\n",
       "      <td>0.0</td>\n",
       "      <td>0.0</td>\n",
       "    </tr>\n",
       "    <tr>\n",
       "      <th>2</th>\n",
       "      <td>0.0</td>\n",
       "      <td>0.0</td>\n",
       "      <td>0.0</td>\n",
       "      <td>0.0</td>\n",
       "      <td>0.0</td>\n",
       "      <td>0.0</td>\n",
       "      <td>0.0</td>\n",
       "      <td>0.0</td>\n",
       "      <td>0.0</td>\n",
       "      <td>0.0</td>\n",
       "      <td>...</td>\n",
       "      <td>0.0</td>\n",
       "      <td>0.0</td>\n",
       "      <td>0.0</td>\n",
       "      <td>0.0</td>\n",
       "      <td>0.0</td>\n",
       "      <td>0.0</td>\n",
       "      <td>0.0</td>\n",
       "      <td>0.0</td>\n",
       "      <td>0.0</td>\n",
       "      <td>0.0</td>\n",
       "    </tr>\n",
       "    <tr>\n",
       "      <th>3</th>\n",
       "      <td>0.0</td>\n",
       "      <td>0.0</td>\n",
       "      <td>0.0</td>\n",
       "      <td>0.0</td>\n",
       "      <td>0.0</td>\n",
       "      <td>0.0</td>\n",
       "      <td>0.0</td>\n",
       "      <td>0.0</td>\n",
       "      <td>0.0</td>\n",
       "      <td>0.0</td>\n",
       "      <td>...</td>\n",
       "      <td>0.0</td>\n",
       "      <td>0.0</td>\n",
       "      <td>0.0</td>\n",
       "      <td>0.0</td>\n",
       "      <td>0.0</td>\n",
       "      <td>0.0</td>\n",
       "      <td>0.0</td>\n",
       "      <td>0.0</td>\n",
       "      <td>0.0</td>\n",
       "      <td>0.0</td>\n",
       "    </tr>\n",
       "    <tr>\n",
       "      <th>4</th>\n",
       "      <td>0.0</td>\n",
       "      <td>0.0</td>\n",
       "      <td>0.0</td>\n",
       "      <td>0.0</td>\n",
       "      <td>0.0</td>\n",
       "      <td>0.0</td>\n",
       "      <td>0.0</td>\n",
       "      <td>0.0</td>\n",
       "      <td>0.0</td>\n",
       "      <td>0.0</td>\n",
       "      <td>...</td>\n",
       "      <td>0.0</td>\n",
       "      <td>0.0</td>\n",
       "      <td>0.0</td>\n",
       "      <td>0.0</td>\n",
       "      <td>0.0</td>\n",
       "      <td>0.0</td>\n",
       "      <td>0.0</td>\n",
       "      <td>0.0</td>\n",
       "      <td>0.0</td>\n",
       "      <td>0.0</td>\n",
       "    </tr>\n",
       "  </tbody>\n",
       "</table>\n",
       "<p>5 rows × 21316 columns</p>\n",
       "</div>"
      ],
      "text/plain": [
       "    00  0001  0003ng  0007  00139  0018  001ng  002  003  005  ...  zone  \\\n",
       "0  0.0   0.0     0.0   0.0    0.0   0.0    0.0  0.0  0.0  0.0  ...   0.0   \n",
       "1  0.0   0.0     0.0   0.0    0.0   0.0    0.0  0.0  0.0  0.0  ...   0.0   \n",
       "2  0.0   0.0     0.0   0.0    0.0   0.0    0.0  0.0  0.0  0.0  ...   0.0   \n",
       "3  0.0   0.0     0.0   0.0    0.0   0.0    0.0  0.0  0.0  0.0  ...   0.0   \n",
       "4  0.0   0.0     0.0   0.0    0.0   0.0    0.0  0.0  0.0  0.0  ...   0.0   \n",
       "\n",
       "   zonegran  zovirox  zubrzycki  zucchini  zurich  zyban  zylstra  zyprexa  \\\n",
       "0       0.0      0.0        0.0       0.0     0.0    0.0      0.0      0.0   \n",
       "1       0.0      0.0        0.0       0.0     0.0    0.0      0.0      0.0   \n",
       "2       0.0      0.0        0.0       0.0     0.0    0.0      0.0      0.0   \n",
       "3       0.0      0.0        0.0       0.0     0.0    0.0      0.0      0.0   \n",
       "4       0.0      0.0        0.0       0.0     0.0    0.0      0.0      0.0   \n",
       "\n",
       "   zyrtec  \n",
       "0     0.0  \n",
       "1     0.0  \n",
       "2     0.0  \n",
       "3     0.0  \n",
       "4     0.0  \n",
       "\n",
       "[5 rows x 21316 columns]"
      ]
     },
     "execution_count": 147,
     "metadata": {},
     "output_type": "execute_result"
    }
   ],
   "source": [
    "tfidf_df.head()"
   ]
  },
  {
   "cell_type": "code",
   "execution_count": 159,
   "metadata": {},
   "outputs": [],
   "source": [
    "from sklearn import metrics\n",
    "from sklearn.naive_bayes import MultinomialNB"
   ]
  },
  {
   "cell_type": "code",
   "execution_count": 160,
   "metadata": {},
   "outputs": [],
   "source": [
    "nb_classifier=MultinomialNB(alpha=0.1)"
   ]
  },
  {
   "cell_type": "code",
   "execution_count": 161,
   "metadata": {},
   "outputs": [
    {
     "data": {
      "text/plain": [
       "MultinomialNB(alpha=0.1, class_prior=None, fit_prior=True)"
      ]
     },
     "execution_count": 161,
     "metadata": {},
     "output_type": "execute_result"
    }
   ],
   "source": [
    "nb_classifier.fit(tfidf_train,y_train)"
   ]
  },
  {
   "cell_type": "code",
   "execution_count": 162,
   "metadata": {},
   "outputs": [],
   "source": [
    "pred=nb_classifier.predict(tfidf_test)"
   ]
  },
  {
   "cell_type": "code",
   "execution_count": 163,
   "metadata": {},
   "outputs": [],
   "source": [
    "score = metrics.accuracy_score(y_test,pred)"
   ]
  },
  {
   "cell_type": "code",
   "execution_count": 164,
   "metadata": {},
   "outputs": [],
   "source": [
    "cm = metrics.confusion_matrix(y_test,pred,labels=[0,1])"
   ]
  },
  {
   "cell_type": "code",
   "execution_count": 165,
   "metadata": {},
   "outputs": [
    {
     "data": {
      "text/plain": [
       "0.8448275862068966"
      ]
     },
     "execution_count": 165,
     "metadata": {},
     "output_type": "execute_result"
    }
   ],
   "source": [
    "score"
   ]
  },
  {
   "cell_type": "code",
   "execution_count": 166,
   "metadata": {},
   "outputs": [
    {
     "data": {
      "text/plain": [
       "array([[176,   3],\n",
       "       [ 33,  20]], dtype=int64)"
      ]
     },
     "execution_count": 166,
     "metadata": {},
     "output_type": "execute_result"
    }
   ],
   "source": [
    "cm"
   ]
  },
  {
   "cell_type": "code",
   "execution_count": 167,
   "metadata": {},
   "outputs": [],
   "source": [
    "alphas=np.arange(0,1,0.1)   "
   ]
  },
  {
   "cell_type": "code",
   "execution_count": 168,
   "metadata": {},
   "outputs": [],
   "source": [
    "def train_and_predict(alpha):\n",
    "    nb_classifier=MultinomialNB(alpha)\n",
    "    nb_classifier.fit(tfidf_train,y_train)\n",
    "    pred=nb_classifier.predict(tfidf_test)\n",
    "    score=metrics.accuracy_score(y_test,pred)\n",
    "    return score"
   ]
  },
  {
   "cell_type": "code",
   "execution_count": 169,
   "metadata": {},
   "outputs": [
    {
     "name": "stdout",
     "output_type": "stream",
     "text": [
      "Alpha:-  0.0\n",
      "score:-  0.8103448275862069\n",
      "\n",
      "Alpha:-  0.1\n",
      "score:-  0.8448275862068966\n",
      "\n",
      "Alpha:-  0.2\n",
      "score:-  0.8060344827586207\n",
      "\n",
      "Alpha:-  0.30000000000000004\n",
      "score:-  0.7931034482758621\n",
      "\n",
      "Alpha:-  0.4\n",
      "score:-  0.7887931034482759\n",
      "\n",
      "Alpha:-  0.5\n",
      "score:-  0.7758620689655172\n",
      "\n",
      "Alpha:-  0.6000000000000001\n",
      "score:-  0.7758620689655172\n",
      "\n",
      "Alpha:-  0.7000000000000001\n",
      "score:-  0.771551724137931\n",
      "\n",
      "Alpha:-  0.8\n",
      "score:-  0.771551724137931\n",
      "\n",
      "Alpha:-  0.9\n",
      "score:-  0.771551724137931\n",
      "\n"
     ]
    },
    {
     "name": "stderr",
     "output_type": "stream",
     "text": [
      "C:\\Users\\Manish\\Anaconda3\\lib\\site-packages\\sklearn\\naive_bayes.py:480: UserWarning: alpha too small will result in numeric errors, setting alpha = 1.0e-10\n",
      "  'setting alpha = %.1e' % _ALPHA_MIN)\n"
     ]
    }
   ],
   "source": [
    "for alpha in alphas:\n",
    "    print('Alpha:- ',alpha)\n",
    "    print('score:- ',train_and_predict(alpha))\n",
    "    print()"
   ]
  },
  {
   "cell_type": "code",
   "execution_count": 170,
   "metadata": {},
   "outputs": [],
   "source": [
    "nb_classifier.fit(tfidf_train,y_train)\n",
    "pred_values_test=nb_classifier.predict(tfidf_csv_test)"
   ]
  },
  {
   "cell_type": "code",
   "execution_count": 171,
   "metadata": {},
   "outputs": [
    {
     "data": {
      "text/html": [
       "<div>\n",
       "<style scoped>\n",
       "    .dataframe tbody tr th:only-of-type {\n",
       "        vertical-align: middle;\n",
       "    }\n",
       "\n",
       "    .dataframe tbody tr th {\n",
       "        vertical-align: top;\n",
       "    }\n",
       "\n",
       "    .dataframe thead th {\n",
       "        text-align: right;\n",
       "    }\n",
       "</style>\n",
       "<table border=\"1\" class=\"dataframe\">\n",
       "  <thead>\n",
       "    <tr style=\"text-align: right;\">\n",
       "      <th></th>\n",
       "      <th>Index</th>\n",
       "      <th>Patient_Tag</th>\n",
       "    </tr>\n",
       "  </thead>\n",
       "  <tbody>\n",
       "    <tr>\n",
       "      <th>0</th>\n",
       "      <td>1</td>\n",
       "      <td>0</td>\n",
       "    </tr>\n",
       "    <tr>\n",
       "      <th>1</th>\n",
       "      <td>2</td>\n",
       "      <td>0</td>\n",
       "    </tr>\n",
       "    <tr>\n",
       "      <th>2</th>\n",
       "      <td>3</td>\n",
       "      <td>0</td>\n",
       "    </tr>\n",
       "    <tr>\n",
       "      <th>3</th>\n",
       "      <td>4</td>\n",
       "      <td>1</td>\n",
       "    </tr>\n",
       "    <tr>\n",
       "      <th>4</th>\n",
       "      <td>5</td>\n",
       "      <td>0</td>\n",
       "    </tr>\n",
       "  </tbody>\n",
       "</table>\n",
       "</div>"
      ],
      "text/plain": [
       "   Index  Patient_Tag\n",
       "0      1            0\n",
       "1      2            0\n",
       "2      3            0\n",
       "3      4            1\n",
       "4      5            0"
      ]
     },
     "execution_count": 171,
     "metadata": {},
     "output_type": "execute_result"
    }
   ],
   "source": [
    "ans=pd.DataFrame(pred_values_test,columns=['Patient_Tag'])\n",
    "ans['Index']=test_df['Index']\n",
    "ans=ans[['Index','Patient_Tag']]\n",
    "ans.head()"
   ]
  },
  {
   "cell_type": "code",
   "execution_count": 172,
   "metadata": {},
   "outputs": [
    {
     "data": {
      "text/plain": [
       "<matplotlib.axes._subplots.AxesSubplot at 0x2aaa7e05128>"
      ]
     },
     "execution_count": 172,
     "metadata": {},
     "output_type": "execute_result"
    },
    {
     "data": {
      "image/png": "[encoded data removed]",
      "text/plain": [
       "<Figure size 432x288 with 1 Axes>"
      ]
     },
     "metadata": {
      "needs_background": "light"
     },
     "output_type": "display_data"
    }
   ],
   "source": [
    "import seaborn as sns\n",
    "sns.countplot(x='Patient_Tag',data=ans)"
   ]
  },
  {
   "cell_type": "code",
   "execution_count": 173,
   "metadata": {},
   "outputs": [
    {
     "data": {
      "text/plain": [
       "<matplotlib.axes._subplots.AxesSubplot at 0x2aaa7ded978>"
      ]
     },
     "execution_count": 173,
     "metadata": {},
     "output_type": "execute_result"
    },
    {
     "data": {
      "image/png": "[encoded data removed]",
      "text/plain": [
       "<Figure size 432x288 with 1 Axes>"
      ]
     },
     "metadata": {
      "needs_background": "light"
     },
     "output_type": "display_data"
    }
   ],
   "source": [
    "sns.countplot(x='Patient_Tag',data=train_df)"
   ]
  },
  {
   "cell_type": "code",
   "execution_count": 174,
   "metadata": {},
   "outputs": [
    {
     "data": {
      "text/plain": [
       "0    916\n",
       "1    240\n",
       "Name: Patient_Tag, dtype: int64"
      ]
     },
     "execution_count": 174,
     "metadata": {},
     "output_type": "execute_result"
    }
   ],
   "source": [
    "new_train_df['Patient_Tag'].value_counts()"
   ]
  },
  {
   "cell_type": "code",
   "execution_count": 175,
   "metadata": {},
   "outputs": [
    {
     "data": {
      "text/plain": [
       "0    917\n",
       "1    240\n",
       "Name: Patient_Tag, dtype: int64"
      ]
     },
     "execution_count": 175,
     "metadata": {},
     "output_type": "execute_result"
    }
   ],
   "source": [
    "train_df['Patient_Tag'].value_counts()"
   ]
  },
  {
   "cell_type": "code",
   "execution_count": 176,
   "metadata": {},
   "outputs": [
    {
     "data": {
      "text/plain": [
       "0    512\n",
       "1     59\n",
       "Name: Patient_Tag, dtype: int64"
      ]
     },
     "execution_count": 176,
     "metadata": {},
     "output_type": "execute_result"
    }
   ],
   "source": [
    "ans['Patient_Tag'].value_counts()"
   ]
  },
  {
   "cell_type": "code",
   "execution_count": 177,
   "metadata": {},
   "outputs": [],
   "source": [
    "ans.to_csv('submission_4.csv',index=False)"
   ]
  },
  {
   "cell_type": "code",
   "execution_count": null,
   "metadata": {},
   "outputs": [],
   "source": []
  }
 ],
 "metadata": {
  "kernelspec": {
   "display_name": "Python 3",
   "language": "python",
   "name": "python3"
  },
  "language_info": {
   "codemirror_mode": {
    "name": "ipython",
    "version": 3
   },
   "file_extension": ".py",
   "mimetype": "text/x-python",
   "name": "python",
   "nbconvert_exporter": "python",
   "pygments_lexer": "ipython3",
   "version": "3.7.3"
  }
 },
 "nbformat": 4,
 "nbformat_minor": 2
}
